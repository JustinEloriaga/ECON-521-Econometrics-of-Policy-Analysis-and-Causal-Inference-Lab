{
 "cells": [
  {
   "cell_type": "markdown",
   "id": "dbd1ce35",
   "metadata": {},
   "source": [
    "# Selection Bias in Observational Data"
   ]
  },
  {
   "cell_type": "markdown",
   "id": "426a22da",
   "metadata": {},
   "source": [
    "A fitness app launches streak reminders to encourage workouts. You want the causal effect on weekly workout sessions.\n",
    "\n",
    "Two rollouts:\n",
    "1.\t**Observational (opt-in)**: Users choose to enable reminders.\n",
    "2.\t**Randomized (RCT)**: The app randomly assigns reminders to 50% of users.\n",
    "\n",
    "We’ll show why the observational comparison is biased upward when *motivated* users are more likely to opt in."
   ]
  },
  {
   "cell_type": "markdown",
   "id": "913a3d48",
   "metadata": {},
   "source": [
    "### Notation"
   ]
  },
  {
   "cell_type": "markdown",
   "id": "9200a469",
   "metadata": {},
   "source": [
    "Consider user $i$.\n",
    "- $Y_i(1)$: user $i$’s weekly workouts if they have the reminder (treatment).\n",
    "- $Y_i(0)$: user $i$’s weekly workouts if not treated (control).\n",
    "- $\\Delta_i \\equiv Y_i(1)-Y_i(0)$: individual causal effect.\n",
    "- $D_i \\in \\{0,1\\}$: observational/opt-in indicator (1 if the user chose reminders).\n",
    "- $T_i \\in \\{0,1\\}$: randomized assignment (1 if randomly assigned reminders).\n",
    "- $v_i$: unobserved motivation (high $v_i$ ⇒ tends to work out more and is more likely to opt in).\n",
    "\n",
    "Observed outcomes:\n",
    "- Under opt-in: $Y_i^{\\text{obs}} = D_i\\,Y_i(1) + (1-D_i)\\,Y_i(0)$.\n",
    "- Under RCT: $Y_i^{\\text{obs}} = T_i\\,Y_i(1) + (1-T_i)\\,Y_i(0)$."
   ]
  },
  {
   "cell_type": "markdown",
   "id": "4b14d927",
   "metadata": {},
   "source": [
    "### Comparing Two Estimands"
   ]
  },
  {
   "cell_type": "markdown",
   "id": "90145cde",
   "metadata": {},
   "source": [
    "- SDO (selection-distorted observational difference):\n",
    "$$\\text{SDO} \\equiv \\mathbb{E}[Y^{\\text{obs}}\\mid D=1]-\\mathbb{E}[Y^{\\text{obs}}\\mid D=0]\n",
    "= \\mathbb{E}[Y(1)\\mid D=1]-\\mathbb{E}[Y(0)\\mid D=0]$$\n",
    "- ATE (average treatment effect via RCT)\n",
    "$$\\text{ATE} \\equiv \\mathbb{E}[Y^{\\text{obs}}\\mid T=1]-\\mathbb{E}[Y^{\\text{obs}}\\mid T=0]\n",
    "= \\mathbb{E}[Y(1)-Y(0)] \\quad \\text{(because } T \\perp \\{Y(0),Y(1)\\}\\text{)}$$"
   ]
  },
  {
   "cell_type": "markdown",
   "id": "81457672",
   "metadata": {},
   "source": [
    "### Why the observayional SDO is biased"
   ]
  },
  {
   "cell_type": "markdown",
   "id": "9537cb2a",
   "metadata": {},
   "source": [
    "Bias decomposition:\n",
    "\\begin{aligned}\n",
    "\\text{SDO}\n",
    "&= \\underbrace{\\mathbb{E}\\!\\left[Y(1)-Y(0)\\mid D=1\\right]}{\\text{effect among opt-ins}}\n",
    "\\;+\\;\n",
    "\\underbrace{\\Big(\\mathbb{E}[Y(0)\\mid D=1]-\\mathbb{E}[Y(0)\\mid D=0]\\Big)}{\\textbf{selection term}}.\n",
    "\\end{aligned}\n",
    "\n",
    "If high-motivation users ($v$ large) both (i) opt in (D=1) and (ii) have higher baseline workouts Y(0), then the selection term > 0, so SDO > ATE on average (upward bias)."
   ]
  },
  {
   "cell_type": "markdown",
   "id": "b771094a",
   "metadata": {},
   "source": [
    "### Doing the Simulation"
   ]
  },
  {
   "cell_type": "markdown",
   "id": "02759a14",
   "metadata": {},
   "source": [
    "We simulate heterogeneous effects and selection on an unobserved $v$\n",
    "- $\\Delta_i \\sim \\mathcal{N}(0.5,\\,0.2^2)$ (mean effect ≈ +0.5 workouts/week).\n",
    "- We draw $(e_{0i}, e_{1i}, v_i)$ from a trivariate normal with positive correlations so that more motivated users tend to have higher outcomes in both states and also opt in.\n",
    "\n",
    "Potential outcomes:\n",
    "$$Y_i(0) = e_{0i}, \\quad Y_i(1) = e_{1i} + \\Delta_i$$\n",
    "- Opt-in rule: $D_i = \\mathbf{1}\\{v_i>0\\}$.\n",
    "- RCT: $T_i \\sim \\text{Bernoulli}(0.5)$.\n",
    "\n",
    "We’ll compute SDO, ATE, and also display the selection term to see the bias."
   ]
  },
  {
   "cell_type": "code",
   "execution_count": 1,
   "id": "214a4821",
   "metadata": {},
   "outputs": [],
   "source": [
    "import numpy as np\n",
    "import matplotlib.pyplot as plt\n",
    "\n",
    "np.random.seed(7)"
   ]
  },
  {
   "cell_type": "code",
   "execution_count": 2,
   "id": "2dca8b6a",
   "metadata": {},
   "outputs": [
    {
     "name": "stdout",
     "output_type": "stream",
     "text": [
      "One run — SDO (observational): 1.135\n",
      "One run — ATE (randomized)   : 0.501\n",
      "True average effect δ̄        : 0.499\n",
      "\n",
      "Bias decomposition for SDO:\n",
      "  E[Y(1)-Y(0) | D=1]    = 0.496\n",
      "  E[Y(0)|D=1]-E[Y(0)|D=0]= 0.639  (selection)\n",
      "  Sum (≈ SDO)           = 1.135\n"
     ]
    }
   ],
   "source": [
    "# Correlated shocks for [e0, e1, v] to induce selection on unobservables\n",
    "mu = np.array([0.0, 0.0, 0.0])\n",
    "Sigma = np.array([\n",
    "    [1.0, 0.6, 0.4],  # e0 with e1, v\n",
    "    [0.6, 1.0, 0.4],  # e1 with e0, v\n",
    "    [0.4, 0.4, 1.0]   # v  with e0, e1\n",
    "])\n",
    "\n",
    "n = 100_000\n",
    "\n",
    "# Heterogeneous treatment effects around +0.5\n",
    "delta = np.random.normal(loc=0.5, scale=0.2, size=n)\n",
    "\n",
    "# Draw (e0, e1, v)\n",
    "E = np.random.multivariate_normal(mu, Sigma, size=n)\n",
    "e0 = E[:, 0]\n",
    "e1 = E[:, 1]\n",
    "v  = E[:, 2]\n",
    "\n",
    "# Potential outcomes\n",
    "y0 = e0\n",
    "y1 = e1 + delta\n",
    "\n",
    "# Observational assignment (opt-in if motivated)\n",
    "D = (v > 0).astype(int)\n",
    "\n",
    "# Randomized assignment (50/50)\n",
    "T = np.random.binomial(1, 0.5, size=n)\n",
    "\n",
    "# Observed outcomes\n",
    "y_obs_obs = D * y1 + (1 - D) * y0\n",
    "y_obs_rct = T * y1 + (1 - T) * y0\n",
    "\n",
    "# Estimands\n",
    "SDO = y_obs_obs[D == 1].mean() - y_obs_obs[D == 0].mean()\n",
    "ATE = y_obs_rct[T == 1].mean() - y_obs_rct[T == 0].mean()\n",
    "true_ATE = delta.mean()\n",
    "\n",
    "# Bias decomposition pieces\n",
    "effect_among_optins = (y1 - y0)[D == 1].mean()\n",
    "selection_term = y0[D == 1].mean() - y0[D == 0].mean()\n",
    "\n",
    "print(f\"One run — SDO (observational): {SDO:.3f}\")\n",
    "print(f\"One run — ATE (randomized)   : {ATE:.3f}\")\n",
    "print(f\"True average effect δ̄        : {true_ATE:.3f}\\n\")\n",
    "\n",
    "print(\"Bias decomposition for SDO:\")\n",
    "print(f\"  E[Y(1)-Y(0) | D=1]    = {effect_among_optins:.3f}\")\n",
    "print(f\"  E[Y(0)|D=1]-E[Y(0)|D=0]= {selection_term:.3f}  (selection)\")\n",
    "print(f\"  Sum (≈ SDO)           = {(effect_among_optins + selection_term):.3f}\")"
   ]
  },
  {
   "cell_type": "markdown",
   "id": "c8b7f7f1",
   "metadata": {},
   "source": [
    "Now lets see this for a larger sample"
   ]
  },
  {
   "cell_type": "code",
   "execution_count": 3,
   "id": "2b8074ae",
   "metadata": {},
   "outputs": [
    {
     "name": "stdout",
     "output_type": "stream",
     "text": [
      "Average SDO over sims : 1.138\n",
      "Average ATE over sims : 0.500\n",
      "Average true δ̄       : 0.500\n"
     ]
    }
   ],
   "source": [
    "nsample = 1000   # per simulated study\n",
    "nsim = 10_000\n",
    "\n",
    "sdo_vals = []\n",
    "ate_vals = []\n",
    "true_deltas = []\n",
    "\n",
    "for _ in range(nsim):\n",
    "    delta = np.random.normal(loc=0.5, scale=0.2, size=nsample)\n",
    "    E = np.random.multivariate_normal(mu, Sigma, size=nsample)\n",
    "    e0, e1, v = E[:,0], E[:,1], E[:,2]\n",
    "\n",
    "    y0 = e0\n",
    "    y1 = e1 + delta\n",
    "\n",
    "    D = (v > 0).astype(int)\n",
    "    T = np.random.binomial(1, 0.5, size=nsample)\n",
    "\n",
    "    y_obs_obs = D * y1 + (1 - D) * y0\n",
    "    y_obs_rct = T * y1 + (1 - T) * y0\n",
    "\n",
    "    sdo_vals.append(y_obs_obs[D == 1].mean() - y_obs_obs[D == 0].mean())\n",
    "    ate_vals.append(y_obs_rct[T == 1].mean() - y_obs_rct[T == 0].mean())\n",
    "    true_deltas.append(delta.mean())\n",
    "\n",
    "sdo_vals = np.array(sdo_vals)\n",
    "ate_vals = np.array(ate_vals)\n",
    "true_deltas = np.array(true_deltas)\n",
    "\n",
    "print(f\"Average SDO over sims : {sdo_vals.mean():.3f}\")\n",
    "print(f\"Average ATE over sims : {ate_vals.mean():.3f}\")\n",
    "print(f\"Average true δ̄       : {true_deltas.mean():.3f}\")"
   ]
  },
  {
   "cell_type": "code",
   "execution_count": 4,
   "id": "e0f395ea",
   "metadata": {},
   "outputs": [
    {
     "data": {
      "image/png": "[encoded data removed]",
      "text/plain": [
       "<Figure size 600x400 with 1 Axes>"
      ]
     },
     "metadata": {},
     "output_type": "display_data"
    }
   ],
   "source": [
    "# SDO distribution (observational)\n",
    "fig, ax = plt.subplots(figsize=(6, 4))\n",
    "ax.hist(sdo_vals, bins=50)\n",
    "ax.axvline(true_deltas.mean(), linestyle='--')\n",
    "ax.set_title(\"Distribution of SDO (observational opt-in)\")\n",
    "ax.set_xlabel(\"Estimated effect\")\n",
    "ax.set_ylabel(\"Frequency\")\n",
    "plt.show()"
   ]
  },
  {
   "cell_type": "code",
   "execution_count": 5,
   "id": "f29ac775",
   "metadata": {},
   "outputs": [
    {
     "data": {
      "image/png": "[encoded data removed]",
      "text/plain": [
       "<Figure size 600x400 with 1 Axes>"
      ]
     },
     "metadata": {},
     "output_type": "display_data"
    }
   ],
   "source": [
    "# ATE distribution (randomized)\n",
    "fig, ax = plt.subplots(figsize=(6, 4))\n",
    "ax.hist(ate_vals, bins=50)\n",
    "ax.axvline(true_deltas.mean(), linestyle='--')\n",
    "ax.set_title(\"Distribution of ATE (randomized)\")\n",
    "ax.set_xlabel(\"Estimated effect\")\n",
    "ax.set_ylabel(\"Frequency\")\n",
    "plt.show()"
   ]
  },
  {
   "cell_type": "markdown",
   "id": "7a6d0956",
   "metadata": {},
   "source": [
    "### Key Takeaways"
   ]
  },
  {
   "cell_type": "markdown",
   "id": "914a4520",
   "metadata": {},
   "source": [
    "$Y(1)$ and $Y(0)$ are the counterfactual outcomes with and without reminders. We never observe both; we observe one based on assignment.\n",
    "- With opt-in, treatment $D$ is related to unobserved motivation $v$, which also shifts $Y(0)$. This makes $\\mathbb{E}[Y(0)\\mid D=1] \\neq \\mathbb{E}[Y(0)\\mid D=0]$ ⇒ selection term ≠ 0 ⇒ bias.\n",
    "- With randomization, $T \\perp \\{Y(0),Y(1)\\}$. Thus the treatment–control difference equals $\\mathbb{E}[Y(1)-Y(0)]$, the causal ATE.\n",
    "- In simulations, SDO > ATE on average (upward bias) when motivated users are more likely to opt in."
   ]
  }
 ],
 "metadata": {
  "kernelspec": {
   "display_name": "base",
   "language": "python",
   "name": "python3"
  },
  "language_info": {
   "codemirror_mode": {
    "name": "ipython",
    "version": 3
   },
   "file_extension": ".py",
   "mimetype": "text/x-python",
   "name": "python",
   "nbconvert_exporter": "python",
   "pygments_lexer": "ipython3",
   "version": "3.12.11"
  }
 },
 "nbformat": 4,
 "nbformat_minor": 5
}
